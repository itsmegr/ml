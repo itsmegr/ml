{
  "nbformat": 4,
  "nbformat_minor": 0,
  "metadata": {
    "colab": {
      "provenance": []
    },
    "kernelspec": {
      "name": "python3",
      "display_name": "Python 3"
    },
    "language_info": {
      "name": "python"
    }
  },
  "cells": [
    {
      "cell_type": "code",
      "source": [
        "import random\n",
        "import numpy as np"
      ],
      "metadata": {
        "id": "OrCehW3Aw3wZ"
      },
      "execution_count": null,
      "outputs": []
    },
    {
      "cell_type": "code",
      "execution_count": null,
      "metadata": {
        "id": "6NcEmsPHmWSw"
      },
      "outputs": [],
      "source": [
        "class Perceptron:\n",
        "  def __init__(self, n, **kwargs):\n",
        "    self.n = n\n",
        "    self.alpha = kwargs.get('alpha') if kwargs.get('alpha') is not None else 0.01\n",
        "    self.w = list(kwargs.get('weights') if kwargs.get('weights') is not None else random.random() for _ in range(n))\n",
        "    self.b = kwargs.get('bias') if kwargs.get('bias') is not None else random.random()\n",
        "\n",
        "\n",
        "  def train(self, xtrain, ytrain):\n",
        "    for i in range(len(xtrain)):\n",
        "      pred = self.predict(xtrain[i])\n",
        "      error = ytrain[i] - pred\n",
        "      if error != 0:\n",
        "        for j in range(self.n):\n",
        "          self.w[j] += self.alpha * error * xtrain[i][j]\n",
        "        self.b += self.alpha * error\n",
        "\n",
        "\n",
        "  def _sigmoid(self, x):\n",
        "    return 1.0 / (1.0 + np.exp(-x))\n",
        "\n",
        "\n",
        "  def predict(self, x):\n",
        "    return -1 if self._sigmoid(x[0] * self.w[0] + x[1] * self.w[1] + self.b) <= 0.5 else 1"
      ]
    },
    {
      "cell_type": "code",
      "source": [
        "andxtrain = [\n",
        "    (-1, -1),\n",
        "    (-1, 1),\n",
        "    (1, -1),\n",
        "    (1, 1)\n",
        "]\n",
        "andytrain = [\n",
        "    -1,\n",
        "    -1,\n",
        "    -1,\n",
        "    1\n",
        "]"
      ],
      "metadata": {
        "id": "yTGHCF2KyINT"
      },
      "execution_count": null,
      "outputs": []
    },
    {
      "cell_type": "code",
      "source": [
        "andp = Perceptron(2, alpha=0.005)\n",
        "print(andp.w)\n",
        "\n",
        "# training AND perceptron\n",
        "for _ in range(1000):\n",
        "  andp.train(andxtrain, andytrain)"
      ],
      "metadata": {
        "id": "yDxKm0FNy-zY",
        "colab": {
          "base_uri": "https://localhost:8080/"
        },
        "outputId": "45b2b530-757c-4ccf-dbb5-d9082c0bcc06"
      },
      "execution_count": null,
      "outputs": [
        {
          "output_type": "stream",
          "name": "stdout",
          "text": [
            "[0.5494752083027489, 0.6243603294939317]\n"
          ]
        }
      ]
    },
    {
      "cell_type": "code",
      "source": [
        "print('testing AND gate perceptron:')\n",
        "for i in andxtrain:\n",
        "  print(f'{i[0]} AND {i[1]} = {andp.predict(i)}')"
      ],
      "metadata": {
        "colab": {
          "base_uri": "https://localhost:8080/"
        },
        "id": "vOtbGOau2FfY",
        "outputId": "e14ca9c3-fbad-4a04-94b3-83a27fdf0ea7"
      },
      "execution_count": null,
      "outputs": [
        {
          "output_type": "stream",
          "name": "stdout",
          "text": [
            "testing AND gate perceptron:\n",
            "-1 AND -1 = -1\n",
            "-1 AND 1 = -1\n",
            "1 AND -1 = -1\n",
            "1 AND 1 = 1\n"
          ]
        }
      ]
    },
    {
      "cell_type": "code",
      "source": [
        "orxtrain = [\n",
        "    (-1, -1),\n",
        "    (-1, 1),\n",
        "    (1, -1),\n",
        "    (1, 1)\n",
        "]\n",
        "orytrain = [\n",
        "    -1,\n",
        "    1,\n",
        "    1,\n",
        "    1\n",
        "]"
      ],
      "metadata": {
        "id": "2Awc1vDA2KAJ"
      },
      "execution_count": null,
      "outputs": []
    },
    {
      "cell_type": "code",
      "source": [
        "orp = Perceptron(2, alpha=0.005)\n",
        "\n",
        "# training OR perceptron\n",
        "for _ in range(1000):\n",
        "  orp.train(orxtrain, orytrain)"
      ],
      "metadata": {
        "id": "NofxkI4D2Rf_"
      },
      "execution_count": null,
      "outputs": []
    },
    {
      "cell_type": "code",
      "source": [
        "print('testing OR gate perceptron:')\n",
        "for i in orxtrain:\n",
        "  print(f'{i[0]} OR {i[1]} = {orp.predict(i)}')"
      ],
      "metadata": {
        "colab": {
          "base_uri": "https://localhost:8080/"
        },
        "id": "q8LZIGUasc4L",
        "outputId": "1fb9cb58-8aa8-4338-9fa2-fc2bd93438ef"
      },
      "execution_count": null,
      "outputs": [
        {
          "output_type": "stream",
          "name": "stdout",
          "text": [
            "testing OR gate perceptron:\n",
            "-1 OR -1 = -1\n",
            "-1 OR 1 = 1\n",
            "1 OR -1 = 1\n",
            "1 OR 1 = 1\n"
          ]
        }
      ]
    },
    {
      "cell_type": "code",
      "source": [
        "xorxtrain = [\n",
        "    (-1, -1),\n",
        "    (-1, 1),\n",
        "    (1, -1),\n",
        "    (1, 1)\n",
        "]\n",
        "xorytrain = [\n",
        "    -1,\n",
        "    1,\n",
        "    1,\n",
        "    -1\n",
        "]"
      ],
      "metadata": {
        "id": "BaC2-_Nb4ogN"
      },
      "execution_count": null,
      "outputs": []
    },
    {
      "cell_type": "code",
      "source": [
        "xorp = Perceptron(2, alpha=0.005)\n",
        "\n",
        "# training XOR perceptron\n",
        "for _ in range(1000):\n",
        "  xorp.train(xorxtrain, xorytrain)"
      ],
      "metadata": {
        "id": "0YEeq7Rx4wdm"
      },
      "execution_count": null,
      "outputs": []
    },
    {
      "cell_type": "code",
      "source": [
        "print('testing XOR gate perceptron:')\n",
        "for i in xorxtrain:\n",
        "  print(f'{i[0]} XOR {i[1]} = {xorp.predict(i)}')"
      ],
      "metadata": {
        "colab": {
          "base_uri": "https://localhost:8080/"
        },
        "id": "_P604yTL43bx",
        "outputId": "bef221b9-0419-43d5-dfcc-f1a038bede43"
      },
      "execution_count": null,
      "outputs": [
        {
          "output_type": "stream",
          "name": "stdout",
          "text": [
            "testing XOR gate perceptron:\n",
            "-1 XOR -1 = 1\n",
            "-1 XOR 1 = 1\n",
            "1 XOR -1 = 1\n",
            "1 XOR 1 = -1\n"
          ]
        }
      ]
    }
  ]
}