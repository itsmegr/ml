{
 "cells": [
  {
   "cell_type": "markdown",
   "metadata": {},
   "source": [
    "## Machine Learning assignment 4 - Neural Network with BackPropagation\n",
    "**Name**: Manoj Boganadham \\\n",
    "**Roll no**: 197121 \\\n",
    "**Section**: A"
   ]
  },
  {
   "cell_type": "code",
   "execution_count": 2,
   "metadata": {},
   "outputs": [],
   "source": [
    "# import statements\n",
    "import numpy as np \n",
    "import pandas as pd "
   ]
  },
  {
   "cell_type": "code",
   "execution_count": 3,
   "metadata": {},
   "outputs": [],
   "source": [
    "def sigmoid(x):\n",
    "    return 1 / (1 + np.exp(-x))"
   ]
  },
  {
   "cell_type": "code",
   "execution_count": 4,
   "metadata": {},
   "outputs": [],
   "source": [
    "def predict(X, y, w1, w2, verbose=True, bias=True, show_all=False):\n",
    "    y_pred = [] \n",
    "    \n",
    "    for x in X:\n",
    "        h = sigmoid(x.dot(w1.T))\n",
    "        if (bias):\n",
    "            temp_h = np.append(np.ones(1), h)\n",
    "        else:\n",
    "            temp_h = h\n",
    "        o = sigmoid(temp_h.dot(w2.T))\n",
    "        \n",
    "        y_pred.append(o)\n",
    "        \n",
    "    y = np.argmax(y, axis=1)\n",
    "    y_pred = np.argmax(y_pred, axis=1)\n",
    "                \n",
    "    if show_all:\n",
    "        for idx,x in enumerate(X):\n",
    "            print(f\"Predicted => {y_pred[idx]}, Actual => {y[idx]}\")\n",
    "    \n",
    "    accuracy = np.mean(y_pred==y)\n",
    "    if (verbose):\n",
    "        print(f\"Accuracy => {accuracy*100}\")\n",
    "    return accuracy"
   ]
  },
  {
   "cell_type": "code",
   "execution_count": 5,
   "metadata": {},
   "outputs": [],
   "source": [
    "def backprop(X, Y, n_hid, lr = 0.2,w_init=None,w_scale=1,n_iters=1, batch=False,bias=True):\n",
    "    if bias:\n",
    "        ones_col = np.ones((X.shape[0],1))\n",
    "        X = np.concatenate((ones_col,X), axis=1)\n",
    "    \n",
    "    bias_int = 1 if bias else 0\n",
    "    \n",
    "    if w_init is not None:\n",
    "        w1 = np.ones((n_hid,X.shape[1])) * w_init\n",
    "        w2 = np.ones((Y.shape[1],n_hid+bias_int)) * w_init\n",
    "    else:\n",
    "        w1 = np.random.uniform(size=(n_hid,X.shape[1])) / w_scale\n",
    "        w2 = np.random.uniform(size=(Y.shape[1],n_hid+bias_int)) / w_scale\n",
    "            \n",
    "    history_w1 = [] \n",
    "    history_w2 = []\n",
    "    accuracies = []\n",
    "    \n",
    "    for i in range(n_iters):\n",
    "        \n",
    "        for idx, (x,y) in enumerate(zip(X,Y)):\n",
    "            h = sigmoid(x.dot(w1.T))\n",
    "            if bias:\n",
    "                temp_h = np.append(np.ones(1), h) \n",
    "            else:\n",
    "                temp_h = h\n",
    "            o = sigmoid(temp_h.dot(w2.T))\n",
    "            \n",
    "            do = o*(1-o)*(y-o)\n",
    "            dh = h * (1-h) * do.dot(w2[:,bias_int:]) \n",
    "            \n",
    "            dw2 = lr * do.reshape(-1,1) * temp_h\n",
    "            dw1 = lr * dh.reshape(-1,1) *(x) \n",
    "\n",
    "            if batch == True:\n",
    "                history_w1.append(dw1)\n",
    "                history_w2.append(dw2)\n",
    "            \n",
    "            else:\n",
    "                w2 += dw2\n",
    "                w1 += dw1\n",
    "                \n",
    "        if batch is True:\n",
    "            w2 += sum(history_w2)\n",
    "            w1 += sum(history_w1)\n",
    "\n",
    "        accuracies.append(predict(X,Y,w1,w2,verbose=False,bias=bias))\n",
    "        \n",
    "    return w1, w2, accuracies"
   ]
  },
  {
   "cell_type": "code",
   "execution_count": 6,
   "metadata": {},
   "outputs": [
    {
     "name": "stdout",
     "output_type": "stream",
     "text": [
      "Highest Train accuracy => 0.04311626523936961\n",
      "Training accuracy is less because the number of epochs is less due to the hardware constraint\n"
     ]
    }
   ],
   "source": [
    "train = pd.read_csv(\"emnist-letters-train.csv\").to_numpy()\n",
    "test = pd.read_csv(\"emnist-letters-test.csv\").to_numpy()\n",
    "\n",
    "Y_train = train[:,0]\n",
    "X_train = train[:,1:]\n",
    "Y_test = test[:,0]\n",
    "X_test = test[:,1:]\n",
    "\n",
    "num_train = 5000\n",
    "num_test = 500\n",
    "\n",
    "X_train = X_train[:num_train]\n",
    "Y_train = Y_train[:num_train]\n",
    "X_test = X_test[:num_test]\n",
    "Y_test = Y_test[:num_test]\n",
    "\n",
    "Y_train_OH = np.zeros((Y_train.size, Y_train.max()+1))\n",
    "Y_train_OH[np.arange(Y_train.size),Y_train] = 1\n",
    "\n",
    "Y_test_OH = np.zeros((Y_test.size, Y_test.max()+1))\n",
    "Y_test_OH[np.arange(Y_test.size),Y_test] = 1\n",
    "\n",
    "X_train = X_train.reshape(X_train.shape[0],-1) / 255\n",
    "X_test = X_test.reshape(X_test.shape[0],-1) / 255\n",
    "\n",
    "\n",
    "w_init = None\n",
    "w_scale = 10\n",
    "n_hid = 100\n",
    "lr = 0.01\n",
    "n_iters = 100\n",
    "batch = False\n",
    "bias = False\n",
    "\n",
    "w1,w2,accuracies = backprop(X_train,Y_train_OH,n_hid,lr,w_init,w_scale,n_iters,batch,bias)\n",
    "\n",
    "\n",
    "epochs = np.arange(1, len(accuracies)+1)\n",
    "\n",
    "print(f\"Highest Train accuracy => {max(accuracies)}\")\n",
    "\n",
    "\n",
    "test_acc = predict(X_test,Y_test_OH,w1,w2,bias=False,verbose=False,show_all=False)\n",
    "print(\"Training accuracy is less because the number of epochs is less due to the hardware constraint\")"
   ]
  },
  {
   "cell_type": "code",
   "execution_count": null,
   "metadata": {},
   "outputs": [],
   "source": []
  }
 ],
 "metadata": {
  "kernelspec": {
   "display_name": "Python 3.8.10 64-bit",
   "language": "python",
   "name": "python3"
  },
  "language_info": {
   "codemirror_mode": {
    "name": "ipython",
    "version": 3
   },
   "file_extension": ".py",
   "mimetype": "text/x-python",
   "name": "python",
   "nbconvert_exporter": "python",
   "pygments_lexer": "ipython3",
   "version": "3.8.10"
  },
  "orig_nbformat": 4,
  "vscode": {
   "interpreter": {
    "hash": "31f2aee4e71d21fbe5cf8b01ff0e069b9275f58929596ceb00d14d90e3e16cd6"
   }
  }
 },
 "nbformat": 4,
 "nbformat_minor": 2
}
